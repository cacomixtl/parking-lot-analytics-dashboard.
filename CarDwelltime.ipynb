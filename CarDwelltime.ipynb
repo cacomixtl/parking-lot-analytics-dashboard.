{
  "nbformat": 4,
  "nbformat_minor": 0,
  "metadata": {
    "colab": {
      "provenance": []
    },
    "kernelspec": {
      "name": "python3",
      "display_name": "Python 3"
    },
    "language_info": {
      "name": "python"
    }
  },
  "cells": [
    {
      "cell_type": "code",
      "source": [
        "import pandas as pd\n",
        "import numpy as np\n",
        "import random\n",
        "from datetime import datetime, timedelta\n",
        "\n",
        "# Generic car plates\n",
        "car_plates = [\"YEM-076-B\",\"BYD-065-A\",\"AMG-003-A\",\"YEM-065-A\",\"YUP-765-A\",\"FES-090-B\",\"ZUX-230-F\",\"PUR-203-C\",\"LET-098-D\",\"CUZ-304-F\",\n",
        "              \"SOS-900-L\",\"YEN-007-B\",\"ISI-999-O\",\"YET-404-L\",\"LIL-065-F\",\"AND-999-X\",\"YES-545-Y\",\"FER-543-C\",\"TET-000-A\",\"XES-511-A\"]\n",
        "\n",
        "# Generate random confidence scores with slight correlation\n",
        "def generate_confidence_scores():\n",
        "    pgie_conf = round(random.uniform(0.75, 0.98), 3)\n",
        "    sgie_conf = round(min(max(pgie_conf + random.uniform(-0.05, 0.05), 0), 1), 3)\n",
        "    return pgie_conf, sgie_conf\n",
        "\n",
        "# Adjusted function to enforce IN-OUT sequencing\n",
        "def generate_day_events(day, car_plate_status):\n",
        "    num_events = random.randint(3, 5)  # Daily events for around 100/month\n",
        "    events = []\n",
        "    current_time = datetime.combine(day, datetime.min.time())\n",
        "\n",
        "    for _ in range(num_events):\n",
        "        # Randomize event timing (around the clock)\n",
        "        event_time = current_time + timedelta(\n",
        "            hours=random.randint(0, 23),\n",
        "            minutes=random.randint(0, 59),\n",
        "            seconds=random.randint(0, 59)\n",
        "        )\n",
        "\n",
        "        # Pick a Car Plate and determine direction based on last status\n",
        "        car_plate = random.choice(car_plates)\n",
        "        direction = 'IN' if car_plate_status[car_plate] == 'OUT' else 'OUT'\n",
        "        car_plate_status[car_plate] = direction  # Update car plate status\n",
        "\n",
        "        # Generate confidence scores\n",
        "        pgie_conf, sgie_conf = generate_confidence_scores()\n",
        "\n",
        "        # Append event to list\n",
        "        events.append({\n",
        "            \"timestamp\": event_time,\n",
        "            \"cleaned_label\": car_plate,\n",
        "            \"direction\": direction,\n",
        "            \"avg_pgie_confidence\": pgie_conf,\n",
        "            \"avg_sgie_confidence\": sgie_conf\n",
        "        })\n",
        "\n",
        "    return events\n",
        "\n",
        "# Generate car movement data over multiple days\n",
        "def generate_random_data(num_days):\n",
        "    start_date = datetime.now() - timedelta(days=num_days)\n",
        "    all_events = []\n",
        "\n",
        "    # Track the status of each railcar (initially OUT)\n",
        "    car_plate_status = {car_plate: 'OUT' for car_plate in car_plates}\n",
        "\n",
        "    # Generate events for each day\n",
        "    for day_offset in range(num_days):\n",
        "        current_day = start_date + timedelta(days=day_offset)\n",
        "        day_events = generate_day_events(current_day.date(), car_plate_status)\n",
        "        all_events.extend(day_events)\n",
        "\n",
        "    # Create DataFrame and sort by timestamp\n",
        "    df = pd.DataFrame(all_events)\n",
        "    df = df.sort_values(by=\"timestamp\").reset_index(drop=True)\n",
        "\n",
        "    return df\n",
        "\n",
        "# Generate random data for 30 days\n",
        "data_large = generate_random_data(30)\n",
        "data_large.head(), data_large.shape  # Show sample data and the total number of records\n"
      ],
      "metadata": {
        "colab": {
          "base_uri": "https://localhost:8080/"
        },
        "id": "cERKAxLx1MuX",
        "outputId": "3ed0be78-69d7-4c52-d22a-9ae94423d848"
      },
      "execution_count": 11,
      "outputs": [
        {
          "output_type": "execute_result",
          "data": {
            "text/plain": [
              "(            timestamp cleaned_label direction  avg_pgie_confidence  \\\n",
              " 0 2024-11-09 11:35:51     AMG-003-A        IN                0.892   \n",
              " 1 2024-11-09 15:27:53     YEN-007-B        IN                0.827   \n",
              " 2 2024-11-09 19:29:15     YEM-065-A        IN                0.783   \n",
              " 3 2024-11-09 21:47:00     YES-545-Y        IN                0.771   \n",
              " 4 2024-11-10 01:42:43     YEM-076-B        IN                0.935   \n",
              " \n",
              "    avg_sgie_confidence  \n",
              " 0                0.859  \n",
              " 1                0.799  \n",
              " 2                0.801  \n",
              " 3                0.783  \n",
              " 4                0.897  ,\n",
              " (112, 5))"
            ]
          },
          "metadata": {},
          "execution_count": 11
        }
      ]
    },
    {
      "cell_type": "code",
      "source": [
        "import os\n",
        "\n",
        "def generate_and_save_data(num_days=30, filename='car_plate_logs_3.csv'):\n",
        "    \"\"\"\n",
        "    Generate random car movement data and save to CSV\n",
        "\n",
        "    Parameters:\n",
        "    num_days (int): Number of days to generate data for\n",
        "    filename (str): Name of the output CSV file\n",
        "\n",
        "    Returns:\n",
        "    tuple: (DataFrame, str) - The generated DataFrame and the full path to the saved CSV file\n",
        "    \"\"\"\n",
        "    # Generate the data\n",
        "    df = generate_random_data(num_days=num_days)\n",
        "\n",
        "    # Format timestamp for CSV\n",
        "    df['timestamp'] = df['timestamp'].dt.strftime('%Y-%m-%d %H:%M:%S')\n",
        "\n",
        "    # Get current directory\n",
        "    current_dir = os.getcwd()\n",
        "\n",
        "    # Create full file path\n",
        "    file_path = os.path.join(current_dir, filename)\n",
        "\n",
        "    # Save to CSV\n",
        "    df.to_csv(file_path, index=False)\n",
        "\n",
        "    return df, file_path\n",
        "\n",
        "# Example usage:\n",
        "df, saved_path = generate_and_save_data(num_days=30, filename='car_plate_logs_3.csv')\n",
        "print(f\"Data has been saved to: {saved_path}\")\n",
        "\n",
        "#Quick verification of the saved data:\n",
        "df_verification = pd.read_csv(saved_path)\n",
        "print(\"\\nFirst few rows of the saved data:\")\n",
        "print(df_verification.head())"
      ],
      "metadata": {
        "id": "1NfPjQzqAJTz",
        "outputId": "72bedb9f-a76c-44e5-bd8f-ceff18a236aa",
        "colab": {
          "base_uri": "https://localhost:8080/"
        }
      },
      "execution_count": 12,
      "outputs": [
        {
          "output_type": "stream",
          "name": "stdout",
          "text": [
            "Data has been saved to: /content/car_plate_logs_3.csv\n",
            "\n",
            "First few rows of the saved data:\n",
            "             timestamp cleaned_label direction  avg_pgie_confidence  \\\n",
            "0  2024-11-09 19:23:47     YEM-065-A        IN                0.786   \n",
            "1  2024-11-09 20:44:19     AND-999-X       OUT                0.930   \n",
            "2  2024-11-09 21:04:49     AND-999-X        IN                0.922   \n",
            "3  2024-11-10 05:38:49     YEN-007-B        IN                0.972   \n",
            "4  2024-11-10 07:18:21     YUP-765-A        IN                0.969   \n",
            "\n",
            "   avg_sgie_confidence  \n",
            "0                0.831  \n",
            "1                0.903  \n",
            "2                0.932  \n",
            "3                0.979  \n",
            "4                0.936  \n"
          ]
        }
      ]
    }
  ]
}